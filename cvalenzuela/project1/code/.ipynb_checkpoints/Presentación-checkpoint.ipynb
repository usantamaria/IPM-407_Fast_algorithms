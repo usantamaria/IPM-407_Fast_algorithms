{
 "cells": [
  {
   "cell_type": "code",
   "execution_count": 3,
   "metadata": {
    "collapsed": true,
    "nbpresent": {
     "id": "fa5f10cc-9290-4329-b308-321cfebb3422"
    }
   },
   "outputs": [],
   "source": [
    "from lib import *\n",
    "import time\n",
    "import matplotlib.pyplot as plt\n",
    "import numpy as np\n",
    "\n",
    "tnodes = 65\n",
    "u = create_solution(tnodes)\n",
    "\n",
    "%matplotlib inline"
   ]
  },
  {
   "cell_type": "markdown",
   "metadata": {
    "nbpresent": {
     "id": "5a214b0a-53a4-4312-b2ad-78569fb31f34"
    }
   },
   "source": [
    "# Proyecto 1 Multigrid"
   ]
  },
  {
   "cell_type": "markdown",
   "metadata": {
    "nbpresent": {
     "id": "c83f56d3-931c-402d-8246-1876f19cd6ff"
    }
   },
   "source": [
    "## Camilo Valenzuela"
   ]
  },
  {
   "cell_type": "markdown",
   "metadata": {
    "nbpresent": {
     "id": "0b653b06-d042-4865-b1ef-2d9797c26b15"
    }
   },
   "source": [
    "## Problema:\n",
    "Se tiene la siguiente ecuación diferencial parcial\n",
    "$$ \\frac{\\delta^2 u}{\\delta x^2} + \\frac{\\delta^2 u}{\\delta y^2} = −2 \\left[(1-6x^2) y^2 (1-y^2) + (1-6y^2) x^2 (1-x^2)\\right]$$\n",
    "$$ u = 0\\text{ en }x=0,x=1,y=0,y=1$$\n",
    "$$ 0 \\leq x,y \\leq 1$$\n",
    "\n",
    "Se necesita encontrar una solución numérica para dicha ecuación."
   ]
  },
  {
   "cell_type": "markdown",
   "metadata": {},
   "source": [
    "## Discretización:\n",
    "Para poder resolver la ecuación de forma numérica se realizó una discretizacion de segundo orden de la forma\n",
    "$$ u_{xx} = \\frac{ u_{i-1,j} - 2  u_{i,j} + u_{i+1,j} }{h^2}  , u_{yy} = \\frac{ u_{i,j-1} - 2 u_{i,j} + u_{i,j+1} }{h^2}$$\n",
    "\n",
    "Donde $h = \\frac{1}{N-1}$ y $N$ es la cantidad de nodos de la grilla.\n",
    "\n",
    "Luego de reemplazar la ecuación nos queda de la forma:\n",
    "$$ \\frac{ u_{i-1,j} + u_{i,j-1} - 4 u_{i,j} + u_{i+1,j} + u_{i,j+1} }{h^2} = f_{i,j} $$\n",
    "\n",
    "Un sistema de la forma\n",
    "$$ Au = f$$"
   ]
  },
  {
   "cell_type": "markdown",
   "metadata": {},
   "source": [
    "## Implementación:\n",
    "Toda las implementaciónes fueron realizadas en **Python** con **numpy** y utilizando **numba** para las funciones computacionalmente exigentes."
   ]
  },
  {
   "cell_type": "markdown",
   "metadata": {},
   "source": [
    "## Relajación Gauss Seidel\n",
    "El primer algoritmo utilizado para resolver este problema es **Gauss Seidel**, por lo que ecuación discretizada queda de la siguiente forma\n",
    "\n",
    "$$ \\frac{ u_{i-1,j}^{n+1} + u_{i,j-1}^{n+1} - 4 u_{i,j}^{n+1} + u_{i+1,j}^{n} + u_{i,j+1}^{n} }{h^2} = f_{i,j} $$\n",
    "\n",
    "\n",
    "$$u_{i,j}^{n+1} = \\frac{f_{i,j}  h^2 +u_{i-1,j}^{n+1} + u_{i,j-1}^{n+1} + u_{i+1,j}^n + u_{i,j+1}^n }{4} $$\n",
    "\n",
    "Donde $n$ es la iteración actual y $n+1$ es la iteración siguiente.\n",
    "\n",
    "Pensando que se itera desde abajo hacia arriba y de izquierda a derecha $u_{i-1,j}^{n+1}$ y $u_{i,j-1}^{n+1}$ ya se han calculado al momento de calcular $u_{i,j}^{n+1}$ y los otros dos términos ya eran conocidos de la iteración anterior.\n",
    "\n",
    "De esta forma no se tiene que generar la matriz A ahorrandose una gran cantidad de memoria."
   ]
  },
  {
   "cell_type": "code",
   "execution_count": 4,
   "metadata": {
    "scrolled": false
   },
   "outputs": [
    {
     "name": "stdout",
     "output_type": "stream",
     "text": [
      "Un ejemplo de cómo funciona Gauss Seidel\n"
     ]
    }
   ],
   "source": [
    "print(\"Un ejemplo de cómo funciona Gauss Seidel\")\n",
    "#_=gauss_seidel(tnodes,plot=True,demo=True,random_seed=-1)"
   ]
  },
  {
   "cell_type": "code",
   "execution_count": 5,
   "metadata": {
    "scrolled": false
   },
   "outputs": [
    {
     "name": "stdout",
     "output_type": "stream",
     "text": [
      "Dejando terminar el algoritmo\n"
     ]
    },
    {
     "data": {
      "image/png": "[encoded data removed]",
      "text/plain": [
       "<matplotlib.figure.Figure at 0x7f8a6836a6a0>"
      ]
     },
     "metadata": {},
     "output_type": "display_data"
    }
   ],
   "source": [
    "print(\"Dejando terminar el algoritmo\")\n",
    "v,i=gauss_seidel(tnodes,atol=1e-8)\n",
    "fig,(ax1,ax2,ax3) = plt.subplots(1,3,figsize=(12,5))\n",
    "ax1.imshow(u)\n",
    "ax1.set_title(\"Exact Solution\")\n",
    "ax2.imshow(v)\n",
    "ax2.set_title(\"Approximation in {} iterations\".format(i))\n",
    "ax3.imshow(u-v)\n",
    "ax3.set_title(\"Error {}\".format(np.linalg.norm(u-v)))\n",
    "plt.show()"
   ]
  },
  {
   "cell_type": "markdown",
   "metadata": {},
   "source": [
    "## Esquema V-Cycle\n",
    "Con V-Cycle se busca mejorar el resultado de la relajación Gauss Seidel resolviendo problemas más pequeños y usando el resultado de estos para corregir la solución.\n",
    "\n",
    "El algoritmo es recursivo y se puede definir de la siguiente forma:\n",
    "\n",
    "*Se tiene un problema de la forma $Au = f$ en una grilla equiespaciada $\\Omega^h$*\n",
    "\n",
    "Sea $v^h \\leftarrow \\text{v-cycle}(A^h,f^h)$\n",
    "\n",
    "1. Si  $\\Omega^{h}$ es la grilla más gruesa, calcular la solución directamente. Si no Relajar $A^h u^h = f^h$, $\\nu_1$ veces en $\\Omega^{h}$ \n",
    "1. Calcular el residual $r^h = A^h v^h - f^h$\n",
    "1. Restringir el residual $r^{2h} = I_{h}^{2h} r^h$\n",
    "1. Resolver ahora recursivamente $A^{2h} e^{2h} = r^{2h}$ ($e^{2h} \\leftarrow \\text{v-cycle}(A^{2h},r^{2h})$).\n",
    "1. Interpolar $e^h = I_{2h}^h e^{2h}$\n",
    "1. Corregir $x^h = x^h + e^h$\n",
    "1. Relajar $A^hv^h = f^h$ en $\\Omega^h$ usando $x^h$ como inicial\n",
    "\n",
    "Para el esquema V-Cycle se necesitaba definir dos aspectos de la implementación:\n",
    "\n",
    "### 1. Grilla $\\Omega^{lh}$ más gruesa (Donde se resuelve de forma directa)\n",
    "La implementación de V-cycle realizada sólo toma inicialmente mallas con una cantidad de nodos impares, cada vez que se pasa a una malla más gruesa se calcula de la siguiente forma\n",
    "\n",
    "$$ N_{gruesa} = \\frac{N_{fina} - 1}{2} +1 $$\n",
    "\n",
    "La malla más fina que se puede tener utilizando esa formula es $N_{gruesa} = 2$ por lo que se intentó dejar ese valor como el mínimo.\n",
    "\n",
    "Pero existen casos donde no se llega a ese valor (ejemplo con $N = 13$, se tienen las grillas con $13,7,4$ nodos) por lo que se dejó en **$N_{gruesa}$ par** (por temas de performance cuando la $N_{gruesa}$ mínima es mayor de 10 se decidió no resolver ese sistema).\n",
    "\n",
    "### 2. Funciones de Relajación e Interpolación\n",
    "Para las funciones de relajación se utilizaron\n",
    "1. Injection: $u_{i,j}^{2h} = u_{2i,2j}^{h}$\n",
    "2. Full Weighted: Se utilizaron los 8 nodos de alrededor\n",
    "    <img src=\"fw.jpg\"></img>\n",
    "\n",
    "Para la función de interpolación se utilizó la misma idea del\n",
    "Full Weighted Restriction pero cada nodo multiplicado por 4."
   ]
  },
  {
   "cell_type": "code",
   "execution_count": 6,
   "metadata": {
    "collapsed": true,
    "scrolled": false
   },
   "outputs": [],
   "source": [
    "#_= vcycle(tnodes,plot=True,demo=True,min_m=9)"
   ]
  },
  {
   "cell_type": "code",
   "execution_count": 7,
   "metadata": {
    "scrolled": false
   },
   "outputs": [
    {
     "name": "stdout",
     "output_type": "stream",
     "text": [
      "Dejando terminar el algoritmo\n"
     ]
    },
    {
     "data": {
      "image/png": "[encoded data removed]",
      "text/plain": [
       "<matplotlib.figure.Figure at 0x7f8a67e6de48>"
      ]
     },
     "metadata": {},
     "output_type": "display_data"
    }
   ],
   "source": [
    "print(\"Dejando terminar el algoritmo\")\n",
    "v,i,o=vcycle(tnodes,atol=1e-8,min_m=9)\n",
    "fig,(ax1,ax2,ax3) = plt.subplots(1,3,figsize=(12,5))\n",
    "ax1.imshow(u)\n",
    "ax1.set_title(\"Exact Solution\")\n",
    "ax2.imshow(v)\n",
    "ax2.set_title(\"Approximation in {} iterations,\\n {} Ops\".format(i,o))\n",
    "ax3.imshow(u-v)\n",
    "ax3.set_title(\"Error {}\".format(np.linalg.norm(u-v)))\n",
    "plt.show()"
   ]
  },
  {
   "cell_type": "markdown",
   "metadata": {},
   "source": [
    "## Full Multigrid (FMG)\n",
    "Para la implementación de FMG se utilizó un algoritmo algo distinto al del texto *A multigrid tutorial* ya que este último no mejoraba mi solución inicial casi.\n",
    "\n",
    "$FMG(v^h,f^h,h)$\n",
    "1. Si estamos en la grilla más gruesa ir al punto 5.\n",
    "1. Computar lo siguiente: $$r^{h} <- A^{h}v^{h} - f^{h}$$ $$r^{2h} <- I_{h}^{2h} r^{h} $$\n",
    "1. Llamar FMG recursivamente $e^{2h} = FMG(\\overline{0},r^{2h})$\n",
    "1. Corregir la solución $x^{h} = x^{h} + I_{2h}^{h} e^{2h}$\n",
    "1. Llamar $v^h \\leftarrow \\text{v-cycle}(A^h,f^h)$ $\\nu_0$ veces y retornar $v^h$\n",
    "\n",
    "[1] <a href=\"https://www.researchgate.net/publication/3327389_Nonlinear_multigrid_algorithms_for_Bayesian_optical_diffusion_tomography\">Nonlinear multigrid algorithms for Bayesian optical diffusion tomography (Fig 5.) </a>\n"
   ]
  },
  {
   "cell_type": "code",
   "execution_count": 8,
   "metadata": {
    "collapsed": true,
    "scrolled": false
   },
   "outputs": [],
   "source": [
    "#print \"Prueba Multigrid\"\n",
    "#_ = full_multigrid(65,plot=True,demo=True,min_m=9)"
   ]
  },
  {
   "cell_type": "code",
   "execution_count": null,
   "metadata": {},
   "outputs": [
    {
     "name": "stdout",
     "output_type": "stream",
     "text": [
      "Dejando terminar el algoritmo\n"
     ]
    },
    {
     "data": {
      "image/png": "[encoded data removed]",
      "text/plain": [
       "<matplotlib.figure.Figure at 0x7f8a6809ada0>"
      ]
     },
     "metadata": {},
     "output_type": "display_data"
    }
   ],
   "source": [
    "print(\"Dejando terminar el algoritmo\")\n",
    "v,i,o=full_multigrid(tnodes,atol=1e-8,min_m=9)\n",
    "fig,(ax1,ax2,ax3) = plt.subplots(1,3,figsize=(12,5))\n",
    "ax1.imshow(u)\n",
    "ax1.set_title(\"Exact Solution\")\n",
    "ax2.imshow(v)\n",
    "ax2.set_title(\"Approximation in {} iterations,\\n {} Ops\".format(i,o))\n",
    "ax3.imshow(u-v)\n",
    "ax3.set_title(\"Error {}\".format(np.linalg.norm(u-v)))\n",
    "plt.show()"
   ]
  },
  {
   "cell_type": "markdown",
   "metadata": {},
   "source": [
    "## Experimento 1:\n",
    "Variando la cantidad de nodos, y el tipo de restricción"
   ]
  },
  {
   "cell_type": "code",
   "execution_count": null,
   "metadata": {
    "nbpresent": {
     "id": "a7a0e4f2-8478-485c-a3e3-661995d54ff7"
    },
    "scrolled": false
   },
   "outputs": [
    {
     "name": "stdout",
     "output_type": "stream",
     "text": [
      "Starting Experiment\n"
     ]
    }
   ],
   "source": [
    "%matplotlib inline\n",
    "l = [65,129,257]\n",
    "\n",
    "\n",
    "results = experiment1(node_list_initial=l)\n",
    "results_injection = experiment1(rest_type=\"injection\",node_list_initial=l)"
   ]
  },
  {
   "cell_type": "code",
   "execution_count": null,
   "metadata": {},
   "outputs": [],
   "source": [
    "print(\"Full Weighted\")\n",
    "plotExp1Iters(results)\n",
    "print(\"Injection\")\n",
    "plotExp1Iters(results_injection)"
   ]
  },
  {
   "cell_type": "code",
   "execution_count": null,
   "metadata": {
    "scrolled": false
   },
   "outputs": [],
   "source": [
    "print(\"Full Weighted\")\n",
    "plotExp1Complex(results)\n",
    "print(\"Injection\")\n",
    "plotExp1Complex(results_injection)"
   ]
  },
  {
   "cell_type": "code",
   "execution_count": null,
   "metadata": {
    "scrolled": false
   },
   "outputs": [],
   "source": [
    "print(\"Full Weighted\")\n",
    "plotExp1Times(results)\n",
    "print(\"Injection\")\n",
    "plotExp1Times(results_injection)"
   ]
  },
  {
   "cell_type": "code",
   "execution_count": null,
   "metadata": {
    "scrolled": false
   },
   "outputs": [],
   "source": [
    "print(\"Full Weighted\")\n",
    "plotExp1Residues(results)\n",
    "\n",
    "print(\"Injection\")\n",
    "plotExp1Residues(results_injection)"
   ]
  },
  {
   "cell_type": "markdown",
   "metadata": {},
   "source": [
    "## Experimento 2:\n",
    "Variando los parámetros de FMG y V-Cycle ($\\nu_0,\\nu_1,\\nu_2$)"
   ]
  },
  {
   "cell_type": "code",
   "execution_count": null,
   "metadata": {
    "collapsed": true
   },
   "outputs": [],
   "source": [
    "results = experiment2(v0=5,v1=5,v2=5)"
   ]
  },
  {
   "cell_type": "code",
   "execution_count": null,
   "metadata": {},
   "outputs": [],
   "source": [
    "plotExp2Results(results)"
   ]
  },
  {
   "cell_type": "code",
   "execution_count": null,
   "metadata": {
    "collapsed": true
   },
   "outputs": [],
   "source": []
  }
 ],
 "metadata": {
  "anaconda-cloud": {},
  "kernelspec": {
   "display_name": "Python 3",
   "language": "python",
   "name": "python3"
  },
  "language_info": {
   "codemirror_mode": {
    "name": "ipython",
    "version": 3
   },
   "file_extension": ".py",
   "mimetype": "text/x-python",
   "name": "python",
   "nbconvert_exporter": "python",
   "pygments_lexer": "ipython3",
   "version": "3.6.1"
  },
  "nbpresent": {
   "slides": {
    "4b3a8b91-9813-4bfa-89aa-0012f88f7c8f": {
     "id": "4b3a8b91-9813-4bfa-89aa-0012f88f7c8f",
     "prev": "eadef8e5-10b2-4062-9d25-f4485e12acc1",
     "regions": {
      "7d868c13-6cc2-43b7-b8f6-c3454bc4556c": {
       "attrs": {
        "height": 1,
        "width": 0.9710967744633291,
        "x": 0.015352449173457575,
        "y": -0.010035046171516774
       },
       "content": {
        "cell": "0b653b06-d042-4865-b1ef-2d9797c26b15",
        "part": "source"
       },
       "id": "7d868c13-6cc2-43b7-b8f6-c3454bc4556c"
      }
     }
    },
    "eadef8e5-10b2-4062-9d25-f4485e12acc1": {
     "id": "eadef8e5-10b2-4062-9d25-f4485e12acc1",
     "layout": "manual",
     "prev": null,
     "regions": {
      "142b2bd8-7b6f-4b35-8bf3-30f33bb8ae4f": {
       "attrs": {
        "height": 0.25,
        "pad": 0.01,
        "width": 0.35589486706091766,
        "x": 0.3470131395265848,
        "y": 0.5038061860789032
       },
       "content": {
        "cell": "c83f56d3-931c-402d-8246-1876f19cd6ff",
        "part": "source"
       },
       "id": "142b2bd8-7b6f-4b35-8bf3-30f33bb8ae4f"
      },
      "62675420-525f-491c-92a2-f052319d0dac": {
       "attrs": {
        "height": 0.3333333333333333,
        "pad": 0.01,
        "treemap:weight": 1,
        "width": 0.5224802865285219,
        "x": 0.27,
        "y": 0.16666666666666666
       },
       "content": {
        "cell": "5a214b0a-53a4-4312-b2ad-78569fb31f34",
        "part": "source"
       },
       "id": "62675420-525f-491c-92a2-f052319d0dac"
      }
     }
    }
   },
   "themes": {
    "default": "bed2ab79-86ef-479b-9f11-707c20648e8f",
    "theme": {
     "bed2ab79-86ef-479b-9f11-707c20648e8f": {
      "backgrounds": {
       "backgroundColor": {
        "background-color": "backgroundColor",
        "id": "backgroundColor"
       }
      },
      "id": "bed2ab79-86ef-479b-9f11-707c20648e8f",
      "palette": {
       "backgroundColor": {
        "id": "backgroundColor",
        "rgb": [
         247,
         243,
         222
        ]
       },
       "headingColor": {
        "id": "headingColor",
        "rgb": [
         51,
         51,
         51
        ]
       },
       "linkColor": {
        "id": "linkColor",
        "rgb": [
         139,
         116,
         61
        ]
       },
       "mainColor": {
        "id": "mainColor",
        "rgb": [
         51,
         51,
         51
        ]
       }
      },
      "rules": {
       "a": {
        "color": "linkColor"
       },
       "h1": {
        "color": "headingColor",
        "font-family": "Oswald",
        "font-size": 7
       },
       "h2": {
        "color": "headingColor",
        "font-family": "Oswald",
        "font-size": 5
       },
       "h3": {
        "color": "headingColor",
        "font-family": "Oswald",
        "font-size": 3.75
       },
       "h4": {
        "color": "headingColor",
        "font-family": "Oswald",
        "font-size": 3
       },
       "h5": {
        "color": "headingColor",
        "font-family": "Oswald"
       },
       "h6": {
        "color": "headingColor",
        "font-family": "Oswald"
       },
       "h7": {
        "color": "headingColor",
        "font-family": "Oswald"
       },
       "li": {
        "color": "mainColor",
        "font-family": "Lato",
        "font-size": 5
       },
       "p": {
        "color": "mainColor",
        "font-family": "Lato",
        "font-size": 5
       }
      },
      "text-base": {
       "color": "mainColor",
       "font-family": "Lato",
       "font-size": 5
      }
     }
    }
   }
  }
 },
 "nbformat": 4,
 "nbformat_minor": 2
}
