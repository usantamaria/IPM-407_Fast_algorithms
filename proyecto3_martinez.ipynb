{
 "cells": [
  {
   "cell_type": "code",
   "execution_count": 1,
   "metadata": {
    "collapsed": true
   },
   "outputs": [],
   "source": [
    "import numpy\n",
    "from time import time\n",
    "from matplotlib import pyplot, cm\n",
    "from matplotlib import rcParams\n",
    "import matplotlib.patches as mpatches\n",
    "%matplotlib inline\n",
    "rcParams['font.family'] = 'serif'\n",
    "rcParams['font.size'] = 8"
   ]
  },
  {
   "cell_type": "markdown",
   "metadata": {},
   "source": [
    "# Tree Code vectorizado\n",
    "\n",
    "Creación de clases"
   ]
  },
  {
   "cell_type": "code",
   "execution_count": 2,
   "metadata": {
    "collapsed": true
   },
   "outputs": [],
   "source": [
    "class Point():\n",
    "    \"\"\"The class for a point.\n",
    "    \n",
    "    Arguments:\n",
    "        coords: a three-element list, containing the 3d coordinates of the point\n",
    "        domain: the domain of random generated coordinates x,y,z, default=1.0\n",
    "    \n",
    "    Attributes:\n",
    "        x, y, z: coordinates of the point\n",
    "    \"\"\"\n",
    "    def __init__(self, coords=[], domain=1.0):\n",
    "        if coords:\n",
    "            assert len(coords) == 3, \"the size of coords should be 3.\"\n",
    "            self.x = coords[0]\n",
    "            self.y = coords[1]\n",
    "            self.z = coords[2]\n",
    "        else:\n",
    "            self.x = domain * numpy.random.random()\n",
    "            self.y = domain * numpy.random.random()\n",
    "            self.z = domain * numpy.random.random()\n",
    "            \n",
    "    # overload distance function\n",
    "    def distance(self, other):\n",
    "        return numpy.sqrt((self.x-other.x)**2 + (self.y-other.y)**2\n",
    "                                          + (self.z-other.z)**2)"
   ]
  },
  {
   "cell_type": "code",
   "execution_count": 3,
   "metadata": {
    "collapsed": true
   },
   "outputs": [],
   "source": [
    "class Particle(Point):\n",
    "    \"\"\"The derived class for a particle, inheriting the base class \"Point\".\n",
    "    \n",
    "    Attributes:\n",
    "        m: mass of the particle\n",
    "        phi: the gravitational potential of the particle\n",
    "    \"\"\"\n",
    "    \n",
    "    def __init__(self, coords=[], domain=1.0, m=1.0):\n",
    "        Point.__init__(self, coords, domain)\n",
    "        self.m = m\n",
    "        self.phi = 0."
   ]
  },
  {
   "cell_type": "code",
   "execution_count": 4,
   "metadata": {
    "collapsed": true
   },
   "outputs": [],
   "source": [
    "class Cell():\n",
    "    \"\"\"The class for a cell.\n",
    "    \n",
    "    Arguments:\n",
    "      n_crit: maximum number of particles in a leaf cell\n",
    "    \n",
    "    Attributes:\n",
    "        nleaf (int): number of particles in the cell.\n",
    "        leaf (array of int): array of leaves indices.\n",
    "        nchild (int): 8-bit binary number, used to keep track of the empty child cells\n",
    "        child (array of int): array of children indices.\n",
    "        parent (int): index of parent cell.\n",
    "        x, y, z (float): coordinates of the cell's center.\n",
    "        r (float): radius of the cell (half of the length for cubic cell).\n",
    "        multipole (array of float): array of multipoles' cell.\n",
    "      \n",
    "    \"\"\"\n",
    "    def __init__(self, n_crit):\n",
    "        self.nleaf = 0        # number of particles\n",
    "        self.leaf = numpy.zeros(n_crit, dtype=numpy.int)     # array of leaf index\n",
    "        self.nchild = 0       # binary counter to keep track of empty cells\n",
    "        self.child = numpy.zeros(8, dtype=numpy.int)         # array of child index\n",
    "        self.parent = 0       # index of parent cell\n",
    "        self.x = self.y = self.z = 0.                    # center of the cell\n",
    "        self.r = 0.           # radius of the cell\n",
    "        self.multipole = numpy.zeros(10, dtype=numpy.float)  # multipole array\n",
    "        \n",
    "    def distance(self, other):\n",
    "        return numpy.sqrt((self.x-other.x)**2 + (self.y-other.y)**2\n",
    "                                          + (self.z-other.z)**2)"
   ]
  },
  {
   "cell_type": "code",
   "execution_count": null,
   "metadata": {
    "collapsed": true
   },
   "outputs": [],
   "source": [
    "def direct_sum(particles):\n",
    "    \n",
    "    \"\"\"Calculate the gravitational potential at each particle\n",
    "    using direct summation method.\n",
    "\n",
    "    Arguments:\n",
    "        particles: the list of particles.\n",
    "    \"\"\"\n",
    "    \n",
    "    for i, target in enumerate(particles):\n",
    "        for source in (particles[:i] + particles[i+1:]):\n",
    "            r = target.distance(source)\n",
    "            target.phi += source.m/r"
   ]
  },
  {
   "cell_type": "markdown",
   "metadata": {},
   "source": [
    "# Creación del Árbol\n",
    "\n",
    "Creaciación de la celda raíz"
   ]
  },
  {
   "cell_type": "code",
   "execution_count": null,
   "metadata": {
    "collapsed": true
   },
   "outputs": [],
   "source": [
    "n = 100          # number of particles\n",
    "particles = [ Particle(m=1.0/n) for i in range(n) ]\n",
    "\n",
    "n_crit = 10      # max number of particles in a single cell"
   ]
  },
  {
   "cell_type": "code",
   "execution_count": null,
   "metadata": {
    "collapsed": true
   },
   "outputs": [],
   "source": [
    "root = Cell(n_crit)\n",
    "root.x, root.y, root.z = 0.5, 0.5, 0.5\n",
    "root.r = 0.5"
   ]
  },
  {
   "cell_type": "markdown",
   "metadata": {},
   "source": [
    "se define la función $\\texttt{add_child}$ que crea una celda hija de $\\texttt{p}$ en el octante $\\texttt{octant}$ al final de la lista de celdas y la vincula a ella"
   ]
  },
  {
   "cell_type": "code",
   "execution_count": 5,
   "metadata": {
    "collapsed": true
   },
   "outputs": [],
   "source": [
    "def add_child(octant, p, cells, n_crit):\n",
    "    \"\"\"Add a cell to the end of cells list as a child of p,\n",
    "       initialize the center and radius of the child cell c, \n",
    "       and establish mutual reference between child c and parent p.\n",
    "    \n",
    "    Arguments:\n",
    "        octant: reference to the corresponding octant in 3D structure.\n",
    "        p: is the index (in the cells list) of the corresponding parent.\n",
    "        cells: the list of cells.\n",
    "        n_crit: maximum number of particles in a leaf cell.\n",
    " \n",
    "    \"\"\"\n",
    "    # create a new cell instance and append it to cells list\n",
    "    cells.append(Cell(n_crit))\n",
    "    # the last element of the cells list is the new child c\n",
    "    c = len(cells) - 1\n",
    "    # geometric relationship between parent and child\n",
    "    cells[c].r = cells[p].r / 2\n",
    "    cells[c].x = cells[p].x + cells[c].r * ((octant & 1) * 2 - 1)\n",
    "    cells[c].y = cells[p].y + cells[c].r * ((octant & 2) - 1    )\n",
    "    cells[c].z = cells[p].z + cells[c].r * ((octant & 4) / 2 - 1)\n",
    "    # establish mutual reference in the cells list\n",
    "    cells[c].parent = p\n",
    "    cells[p].child[octant] = c\n",
    "    cells[p].nchild = (cells[p].nchild | (1 << octant))\n",
    "    print('+++cell {} is created as a child of cell {}'.format(c, p))"
   ]
  },
  {
   "cell_type": "code",
   "execution_count": 8,
   "metadata": {
    "collapsed": true
   },
   "outputs": [],
   "source": [
    "def split_cell(particles, p, cells, n_crit):\n",
    "    \"\"\"Loop in parent p's leaves and reallocate the particles to subcells. \n",
    "    If a subcell has not been created in that octant, it creates one using\n",
    "    add_child. If the subcell nleaf exceeds n_crit, split the\n",
    "    subcell c recursively.\n",
    "    \n",
    "    Arguments: \n",
    "        particles: the list of particles.\n",
    "        p: is the index (in the cells list) of the corresponding parent.\n",
    "        cells: the list of cells.\n",
    "        n_crit: maximum number of particles in a leaf cell.\n",
    "    \n",
    "    \"\"\"\n",
    "    print('======start the split of cell {}======'.format(p))\n",
    "    # loop over the particles in the parent cell that you want to split\n",
    "    for l in cells[p].leaf:\n",
    "        octant = (particles[l].x > cells[p].x) + ((particles[l].y > cells[p].y) << 1) \\\n",
    "               + ((particles[l].z > cells[p].z) << 2)   # finding the particle's octant\n",
    "        # if there is not a child cell in the particle's octant, then create one\n",
    "        if not cells[p].nchild & (1 << octant):\n",
    "            add_child(octant, p, cells, n_crit)\n",
    "        # reallocate the particle in the child cell\n",
    "        c = cells[p].child[octant]\n",
    "        cells[c].leaf[cells[c].nleaf] = l \n",
    "        cells[c].nleaf += 1\n",
    "        print('>>>particle {} is reallocated in cell {}'.format(l, c))\n",
    "        # check if the child reach n_crit\n",
    "        if cells[c].nleaf >= n_crit:\n",
    "            split_cell(particles, c, cells, n_crit)\n",
    "    print('======end split cell {}======'.format(p))"
   ]
  },
  {
   "cell_type": "code",
   "execution_count": 7,
   "metadata": {
    "collapsed": true
   },
   "outputs": [],
   "source": [
    "def build_tree(particles, root, n_crit):\n",
    "    \"\"\"Construct a hierarchical octree to store the particles and\n",
    "       return the tree (list) of cells.\n",
    "    \n",
    "    Arguments:\n",
    "        particles: the list of particles.\n",
    "        root: the root cell.\n",
    "        n_crit: maximum number of leaves in a single cell.\n",
    "    \n",
    "    Returns:\n",
    "        cells: the list of cells\n",
    "    \n",
    "    \"\"\"\n",
    "    # set root cell\n",
    "    cells = [root]       # initialize the cells list\n",
    "\n",
    "    # build tree\n",
    "    n = len(particles)\n",
    "    for i in range(n):\n",
    "        # traverse from the root down to a leaf cell\n",
    "        curr = 0\n",
    "        while cells[curr].nleaf >= n_crit:\n",
    "            cells[curr].nleaf += 1\n",
    "            octant = (particles[i].x > cells[curr].x) + ((particles[i].y > cells[curr].y) << 1) \\\n",
    "                   + ((particles[i].z > cells[curr].z) << 2)\n",
    "            # if there is no child cell in the particles octant, then create one\n",
    "            if not cells[curr].nchild & (1 << octant):\n",
    "                add_child(octant, curr, cells, n_crit)\n",
    "            curr = cells[curr].child[octant]\n",
    "        # allocate the particle in the leaf cell\n",
    "        cells[curr].leaf[cells[curr].nleaf] = i\n",
    "        cells[curr].nleaf += 1\n",
    "        print('particle {} is stored in cell {}'.format(i, curr))\n",
    "        # check whether to split or not\n",
    "        if cells[curr].nleaf >= n_crit:\n",
    "            split_cell(particles, curr, cells, n_crit)\n",
    "    \n",
    "    return cells"
   ]
  },
  {
   "cell_type": "code",
   "execution_count": null,
   "metadata": {
    "collapsed": true
   },
   "outputs": [],
   "source": [
    "cells = build_tree(particles, root, n_crit)"
   ]
  },
  {
   "cell_type": "markdown",
   "metadata": {},
   "source": [
    "# Cálculo de multipolos\n",
    "\n",
    "se define $\\texttt{get_multipole}$ que calcula los multipolos de las celdas de los últimos niveles, es decir, el $\\texttt{P2M}$"
   ]
  },
  {
   "cell_type": "code",
   "execution_count": 9,
   "metadata": {
    "collapsed": true
   },
   "outputs": [],
   "source": [
    "def get_multipole(particles, p, cells, n_crit):\n",
    "    \"\"\"Calculate multipole arrays for all leaf cells under cell p.\n",
    "    If leaf number of cell p is equal or bigger than n_crit (non-leaf),\n",
    "    traverse down recursively. Otherwise (leaf), calculate the multipole\n",
    "    arrays for leaf cell p.\n",
    "    \n",
    "    Arguments:\n",
    "        p: current cell's index\n",
    "        cells: the list of cells\n",
    "        particles: the array of all particles\n",
    "        n_crit: maximum number of leaves in a single cell\n",
    "      \n",
    "    \"\"\"\n",
    "    # if the current cell p is not a leaf cell, then recursively traverse down\n",
    "    if cells[p].nleaf >= n_crit:\n",
    "        for c in range(8):\n",
    "            if cells[p].nchild & (1 << c):\n",
    "                get_multipole(particles, cells[p].child[c], cells, n_crit)\n",
    "    # otherwise cell p is a leaf cell\n",
    "    else:\n",
    "        # loop in leaf particles, do P2M\n",
    "        for i in range(cells[p].nleaf):\n",
    "            l = cells[p].leaf[i]\n",
    "            dx, dy, dz = cells[p].x-particles[l].x, \\\n",
    "                         cells[p].y-particles[l].y, \\\n",
    "                         cells[p].z-particles[l].z\n",
    "            cells[p].multipole += particles[l].m * \\\n",
    "                                  numpy.array((1, dx, dy, dz,\\\n",
    "                                               dx**2/2, dy**2/2, dz**2/2,\\\n",
    "                                               dx*dy/2, dy*dz/2, dz*dx/2)) "
   ]
  },
  {
   "cell_type": "code",
   "execution_count": null,
   "metadata": {
    "collapsed": true
   },
   "outputs": [],
   "source": [
    "get_multipole(particles, 0, cells, n_crit)"
   ]
  },
  {
   "cell_type": "markdown",
   "metadata": {},
   "source": [
    "se define la función $\\texttt{M2M}$ para calcular la contribución al multipolo de la celda padre $p$ de una celda hija $c$ y añadirla a su multipolo total"
   ]
  },
  {
   "cell_type": "code",
   "execution_count": 10,
   "metadata": {
    "collapsed": true
   },
   "outputs": [],
   "source": [
    "def M2M(p, c, cells):\n",
    "    \"\"\"Calculate parent cell p's multipole array based on child cell c's \n",
    "    multipoles\n",
    "    \n",
    "    Arguments:\n",
    "        p: parent cell index in cells list\n",
    "        c: child cell index in cells list\n",
    "        cells: the list of cells\n",
    "    \"\"\"\n",
    "    dx, dy, dz = cells[p].x-cells[c].x, cells[p].y-cells[c].y, cells[p].z-cells[c].z\n",
    "    \n",
    "    Dxyz =  numpy.array((dx, dy, dz))\n",
    "    Dyzx = numpy.roll(Dxyz,-1) #It permutes the array (dx,dy,dz) to (dy,dz,dx) \n",
    "    \n",
    "    cells[p].multipole += cells[c].multipole\n",
    "    \n",
    "    cells[p].multipole[1:4] += cells[c].multipole[0] * Dxyz\n",
    "    \n",
    "    cells[p].multipole[4:7] += cells[c].multipole[1:4] * Dxyz\\\n",
    "                             + 0.5*cells[c].multipole[0] *  Dxyz**2\n",
    "    \n",
    "    cells[p].multipole[7:] += 0.5*numpy.roll(cells[c].multipole[1:4], -1) * Dxyz \\\n",
    "                            + 0.5*cells[c].multipole[1:4] * Dxyz \\\n",
    "                            + 0.5*cells[c].multipole[0] * Dxyz * Dyzx   "
   ]
  },
  {
   "cell_type": "markdown",
   "metadata": {},
   "source": [
    "la siguiente función recorre la lista de celdas desde el final hasta el comienzo, subiendo la información de multipolos a su celda padre"
   ]
  },
  {
   "cell_type": "code",
   "execution_count": 11,
   "metadata": {
    "collapsed": true
   },
   "outputs": [],
   "source": [
    "def upward_sweep(cells):\n",
    "    \"\"\"Traverse from leaves to root, in order to calculate multipoles\n",
    "    of all the cells.\n",
    "    \n",
    "    Arguments:\n",
    "        cells: the list of cells\n",
    "    \n",
    "    \"\"\"\n",
    "    for c in range(len(cells)-1, 0, -1):\n",
    "        p = cells[c].parent\n",
    "        M2M(p, c, cells)"
   ]
  },
  {
   "cell_type": "code",
   "execution_count": null,
   "metadata": {
    "collapsed": true
   },
   "outputs": [],
   "source": [
    "upward_sweep(cells)"
   ]
  },
  {
   "cell_type": "markdown",
   "metadata": {},
   "source": [
    "# Evaluación de potencial\n",
    "\n",
    "Se define la siguiente función para recorrer el árbol y hacer la evaluación de potencial para una partícula $i$ particular, en la siguiente función, se hace el recorrido para todas las partículas"
   ]
  },
  {
   "cell_type": "code",
   "execution_count": 13,
   "metadata": {
    "collapsed": true
   },
   "outputs": [],
   "source": [
    "def evaluate(particles, p, i, cells, n_crit, theta):\n",
    "   \n",
    "    \"\"\" Evaluate the gravitational potential at a target point i, \n",
    "    caused by source particles cell p. If nleaf of cell p is less \n",
    "    than n_crit (leaf), use direct summation. Otherwise (non-leaf), loop\n",
    "    in p's child cells. If child cell c is in far-field of target particle i,\n",
    "    use multipole expansion. Otherwise (near-field), call the function\n",
    "    recursively.\n",
    "    \n",
    "    Arguments:\n",
    "        particles: the list of particles\n",
    "        p: cell index in cells list\n",
    "        i: target particle index\n",
    "        cells: the list of cells\n",
    "        n_crit: maximum number of leaves in a single cell\n",
    "        theta: tolerance parameter    \n",
    "    \"\"\"\n",
    "    \n",
    "    # non-leaf cell\n",
    "    if cells[p].nleaf >= n_crit:\n",
    "        # loop in p's child cells (8 octants)\n",
    "        for octant in range(8):\n",
    "            if cells[p].nchild & (1 << octant):\n",
    "                c = cells[p].child[octant]\n",
    "                r = particles[i].distance(cells[c])\n",
    "                # near-field child cell\n",
    "                if cells[c].r > theta*r: \n",
    "                    evaluate(particles, c, i, cells, n_crit, theta)\n",
    "                # far-field child cell\n",
    "                else:\n",
    "                    dx = particles[i].x - cells[c].x\n",
    "                    dy = particles[i].y - cells[c].y\n",
    "                    dz = particles[i].z - cells[c].z\n",
    "                    r3 = r**3\n",
    "                    r5 = r3*r**2\n",
    "                    # calculate the weight for each multipole\n",
    "                    weight = [1/r, -dx/r3, -dy/r3, -dz/r3, 3*dx**2/r5 - 1/r3, \\\n",
    "                              3*dy**2/r5 - 1/r3, 3*dz**2/r5 - 1/r3, 3*dx*dy/r5, \\\n",
    "                              3*dy*dz/r5, 3*dz*dx/r5]\n",
    "                    particles[i].phi += numpy.dot(cells[c].multipole, weight)\n",
    "                \n",
    "    # leaf cell\n",
    "    else:\n",
    "        # loop in leaf cell's particles\n",
    "        for l in range(cells[p].nleaf):\n",
    "            source = particles[cells[p].leaf[l]]\n",
    "            r = particles[i].distance(source)\n",
    "            if r != 0:\n",
    "                particles[i].phi += source.m / r"
   ]
  },
  {
   "cell_type": "code",
   "execution_count": 14,
   "metadata": {
    "collapsed": true
   },
   "outputs": [],
   "source": [
    "def eval_potential(particles, cells, n_crit, theta):\n",
    "    \n",
    "    \"\"\"Evaluate the gravitational potential at all target points \n",
    "    \n",
    "    Arguments:\n",
    "    ----------\n",
    "        particles: the list of particles.\n",
    "        cells: the list of cells.\n",
    "        n_crit: maximum number of particles in a single cell\n",
    "        theta: tolerance parameter.    \n",
    "    \"\"\"\n",
    "    \n",
    "    for i in range(len(particles)):\n",
    "        evaluate(particles, 0, i, cells, n_crit, theta)"
   ]
  },
  {
   "cell_type": "code",
   "execution_count": null,
   "metadata": {
    "collapsed": true
   },
   "outputs": [],
   "source": [
    "eval_potential(particles, cells, n_crit, 0.5)"
   ]
  },
  {
   "cell_type": "markdown",
   "metadata": {
    "collapsed": true
   },
   "source": [
    "# Vectorización\n",
    "\n",
    "Supuesto: Los targets en el mismo twig interactúan de la misma forma con las cajas y partículas circundantes, por lo tanto, comparten lista de interacción."
   ]
  },
  {
   "cell_type": "code",
   "execution_count": null,
   "metadata": {
    "collapsed": true
   },
   "outputs": [],
   "source": [
    "twigs = [cell for cell in cells if not cell.nleaf >= n_crit]"
   ]
  },
  {
   "cell_type": "code",
   "execution_count": 15,
   "metadata": {
    "collapsed": true
   },
   "outputs": [],
   "source": [
    "def interaction_list(particles, p, i, cells, n_crit, theta, lst, no_lst):\n",
    "        # non-leaf cell\n",
    "        if cells[p].nleaf >= n_crit:\n",
    "            for octant in range(8):\n",
    "                if cells[p].nchild & (1 << octant):\n",
    "                    c = cells[p].child[octant]\n",
    "                    r = twigs[i].distance(cells[c])\n",
    "                    # near-field child cell\n",
    "                    if cells[c].r > theta*r:\n",
    "                        interaction_list(particles, c, i, cells, n_crit, theta, lst, no_lst)\n",
    "                    # far-field child cell\n",
    "                    else:\n",
    "                        lst[len(lst) - 1].append(c)\n",
    "        # leaf cell\n",
    "        else:\n",
    "            # loop in leaf cell's particles\n",
    "            no_lst[len(no_lst) - 1].append(p)\n",
    "            \n",
    "def interaction_list_complete(particles, p, twigs, cells, n_crit, theta):\n",
    "    lst = []\n",
    "    no_lst = []\n",
    "    for i in range(len(twigs)):\n",
    "        lst.append([])\n",
    "        no_lst.append([])\n",
    "        interaction_list(particles, p, i, cells, n_crit, theta, lst, no_lst)\n",
    "    return lst, no_lst\n"
   ]
  },
  {
   "cell_type": "code",
   "execution_count": 16,
   "metadata": {
    "collapsed": true
   },
   "outputs": [],
   "source": [
    "def eval_vec(twigs, lst, no_lst, particles, cells):\n",
    "    for i, twig in enumerate(twigs):\n",
    "        for j in range(twig.nleaf):\n",
    "            # multipolo\n",
    "            dx = particles[twig.leaf[j]].x - numpy.array([cells[k].x for k in lst[i]])\n",
    "            dy = particles[twig.leaf[j]].y - numpy.array([cells[k].y for k in lst[i]])\n",
    "            dz = particles[twig.leaf[j]].z - numpy.array([cells[k].z for k in lst[i]])\n",
    "            r = numpy.sqrt(dx**2 + dy**2 + dz**2)\n",
    "            r3 = r**3\n",
    "            r5 = r3*r**2\n",
    "            # calculate the weight for each multipole\n",
    "            weight = numpy.array([1/r, -dx/r3, -dy/r3, -dz/r3, 3*dx**2/r5 - 1/r3, \\\n",
    "                              3*dy**2/r5 - 1/r3, 3*dz**2/r5 - 1/r3, 3*dx*dy/r5, \\\n",
    "                              3*dy*dz/r5, 3*dz*dx/r5])\n",
    "            multipole = numpy.array([cells[k].multipole for k in lst[i]])\n",
    "            particles[twig.leaf[j]].phi += sum(sum(weight*numpy.transpose(multipole)))\n",
    "            # direct sumation\n",
    "            for k in no_lst[i]:\n",
    "                for l in range(cells[k].nleaf):\n",
    "                    source = particles[cells[k].leaf[l]]\n",
    "                    r = particles[twig.leaf[j]].distance(source)\n",
    "                    if r != 0.0:\n",
    "                        particles[twig.leaf[j]].phi += source.m / r"
   ]
  },
  {
   "cell_type": "markdown",
   "metadata": {},
   "source": [
    "# Comparación"
   ]
  },
  {
   "cell_type": "markdown",
   "metadata": {},
   "source": [
    "## Tiempo\n",
    "\n",
    "Creación del árbol y cálculo de los multipolos"
   ]
  },
  {
   "cell_type": "code",
   "execution_count": null,
   "metadata": {
    "collapsed": true
   },
   "outputs": [],
   "source": [
    "n = 100         # number of particles\n",
    "particles = [ Particle(m = 1.0/n) for i in range(n) ]\n",
    "\n",
    "n_crit = 10      # max number of particles in a single cell\n",
    "\n",
    "root = Cell(n_crit)\n",
    "root.x, root.y, root.z = 0.5, 0.5, 0.5\n",
    "root.r = 0.5\n",
    "\n",
    "tic = time()\n",
    "cells = build_tree(particles, root, n_crit)\n",
    "get_multipole(particles, 0, cells, n_crit)\n",
    "upward_sweep(cells)\n",
    "t_tree = time() - tic"
   ]
  },
  {
   "cell_type": "markdown",
   "metadata": {},
   "source": [
    "## Vectorizado"
   ]
  },
  {
   "cell_type": "code",
   "execution_count": 19,
   "metadata": {
    "collapsed": false
   },
   "outputs": [
    {
     "name": "stdout",
     "output_type": "stream",
     "text": [
      "El tree code vectorizado tardó 0.11509299278259277[s].\n"
     ]
    }
   ],
   "source": [
    "tic = time()\n",
    "\n",
    "twigs = [cell for cell in cells if not cell.nleaf >= n_crit]\n",
    "lst, no_lst = interaction_list_complete(particles, 0, twigs, cells, n_crit, 0.5)\n",
    "eval_vec(twigs, lst, no_lst, particles, cells)\n",
    "\n",
    "t_vec = time() - tic\n",
    "\n",
    "sol_vec = numpy.array([i.phi for i in particles])\n",
    "\n",
    "print('El tree code vectorizado tardó ' + str(t_vec + t_tree) + '[s].')"
   ]
  },
  {
   "cell_type": "markdown",
   "metadata": {},
   "source": [
    "#### Normal\n",
    "Limpiamos los potenciales"
   ]
  },
  {
   "cell_type": "code",
   "execution_count": 20,
   "metadata": {
    "collapsed": true
   },
   "outputs": [],
   "source": [
    "for i in particles:\n",
    "    i.phi = 0.0"
   ]
  },
  {
   "cell_type": "code",
   "execution_count": 21,
   "metadata": {
    "collapsed": false
   },
   "outputs": [
    {
     "name": "stdout",
     "output_type": "stream",
     "text": [
      "El tree code tardó 0.4395449161529541[s].\n"
     ]
    }
   ],
   "source": [
    "tic = time()\n",
    "\n",
    "eval_potential(particles, cells, n_crit, 0.5)\n",
    "\n",
    "t_nor = time() - tic\n",
    "\n",
    "sol = numpy.array([i.phi for i in particles])\n",
    "\n",
    "print('El tree code tardó ' + str(t_nor + t_tree) + '[s].')"
   ]
  },
  {
   "cell_type": "markdown",
   "metadata": {},
   "source": [
    "## Error"
   ]
  },
  {
   "cell_type": "code",
   "execution_count": 22,
   "metadata": {
    "collapsed": false
   },
   "outputs": [
    {
     "name": "stdout",
     "output_type": "stream",
     "text": [
      "L2 Norm error: 0.8822008575024501%\n"
     ]
    }
   ],
   "source": [
    "err = numpy.sqrt(sum((sol-sol_vec)**2)/sum(sol**2))\n",
    "print('L2 Norm error: {}%'.format(err*100))"
   ]
  },
  {
   "cell_type": "markdown",
   "metadata": {},
   "source": [
    "# Gráficos comparativos"
   ]
  },
  {
   "cell_type": "code",
   "execution_count": null,
   "metadata": {
    "collapsed": true
   },
   "outputs": [],
   "source": [
    "malla = numpy.array([100, 500, 1000, 5000]) #, 5000, 10000, 50000])\n",
    "tnormal = []\n",
    "tvectorizado = []\n",
    "tds = []\n",
    "tarbol = []\n",
    "error_nordir = []\n",
    "error_vecdir = []\n",
    "\n",
    "\n",
    "for n in malla:\n",
    "    particles = [ Particle(m = 1.0/n) for i in range(n) ]\n",
    "    \n",
    "    tic = time()\n",
    "    direct_sum(particles)\n",
    "    toc = time()\n",
    "\n",
    "    tds.append(toc - tic)\n",
    "    \n",
    "    soldir = numpy.array([i.phi for i in particles])\n",
    "    \n",
    "    for i in particles:\n",
    "        i.phi = 0.0\n",
    "\n",
    "    n_crit = 10      # max number of particles in a single cell\n",
    "\n",
    "    root = Cell(n_crit)\n",
    "    root.x, root.y, root.z = 0.5, 0.5, 0.5\n",
    "    root.r = 0.5\n",
    "\n",
    "    tic = time()\n",
    "    cells = build_tree(particles, root, n_crit)\n",
    "    get_multipole(particles, 0, cells, n_crit)\n",
    "    upward_sweep(cells)\n",
    "    t_tree = time() - tic\n",
    "    tarbol.append(t_tree)\n",
    "\n",
    "    tic = time()\n",
    "\n",
    "    twigs = [cell for cell in cells if not cell.nleaf >= n_crit]\n",
    "    lst, no_lst = interaction_list_complete(particles, 0, twigs, cells, n_crit, 0.5)\n",
    "    eval_vec(twigs, lst, no_lst, particles, cells)\n",
    "\n",
    "    t_vec = time() - tic\n",
    "\n",
    "    sol_vec = numpy.array([i.phi for i in particles])\n",
    "\n",
    "    tvectorizado.append(t_vec + t_tree)\n",
    "\n",
    "    for i in particles:\n",
    "        i.phi = 0.0\n",
    "    \n",
    "    tic = time()\n",
    "\n",
    "    eval_potential(particles, cells, n_crit, 0.5)\n",
    "\n",
    "    t_nor = time() - tic\n",
    "\n",
    "    sol = numpy.array([i.phi for i in particles])\n",
    "\n",
    "    tnormal.append(t_nor + t_tree)\n",
    "\n",
    "    error_vecdir.append(numpy.sqrt(sum((soldir-sol_vec)**2)/sum(soldir**2)))\n",
    "    error_nordir.append(numpy.sqrt(sum((soldir-sol)**2)/sum(soldir**2)))"
   ]
  },
  {
   "cell_type": "code",
   "execution_count": 23,
   "metadata": {
    "collapsed": false
   },
   "outputs": [
    {
     "data": {
      "image/png": "[encoded data removed]",
      "text/plain": [
       "<matplotlib.figure.Figure at 0x7ff3f5da6320>"
      ]
     },
     "metadata": {},
     "output_type": "display_data"
    }
   ],
   "source": [
    "pyplot.plot(malla, tnormal, 'b-+')\n",
    "pyplot.plot(malla, tvectorizado, 'g-+')\n",
    "pyplot.plot(malla, tds, 'r-+')\n",
    "pyplot.xlabel('Numero de Particulas', fontsize = 12)\n",
    "pyplot.ylabel('Tiempo [s]', fontsize = 12)\n",
    "pyplot.xscale('log')\n",
    "pyplot.yscale('log')\n",
    "pyplot.title('Complejidad algoritmica\\n', fontsize = 16)\n",
    "blue = mpatches.Patch(color='blue', label='Tree Code')\n",
    "green = mpatches.Patch(color='green', label='Tree Code Vectorizado')\n",
    "red = mpatches.Patch(color ='red', label='Suma Directa')\n",
    "pyplot.legend(handles=[blue, green, red])\n",
    "pyplot.show()"
   ]
  },
  {
   "cell_type": "code",
   "execution_count": 24,
   "metadata": {
    "collapsed": false
   },
   "outputs": [
    {
     "data": {
      "image/png": "[encoded data removed]",
      "text/plain": [
       "<matplotlib.figure.Figure at 0x7ff3f7f1ecc0>"
      ]
     },
     "metadata": {},
     "output_type": "display_data"
    }
   ],
   "source": [
    "pyplot.plot(malla, numpy.array(tnormal)/numpy.array(tvectorizado), 'b-+')\n",
    "pyplot.xlabel('Numero de Particulas', fontsize = 12)\n",
    "pyplot.ylabel('Factor', fontsize = 12)\n",
    "pyplot.xscale('log')\n",
    "pyplot.title('Factor t_vec/t_normal \\n', fontsize = 16)\n",
    "blue = mpatches.Patch(color='blue', label='Tree Code')\n",
    "pyplot.legend(handles=[blue])\n",
    "pyplot.show()"
   ]
  },
  {
   "cell_type": "code",
   "execution_count": 25,
   "metadata": {
    "collapsed": false
   },
   "outputs": [
    {
     "data": {
      "image/png": "[encoded data removed]",
      "text/plain": [
       "<matplotlib.figure.Figure at 0x7ff3f64b8898>"
      ]
     },
     "metadata": {},
     "output_type": "display_data"
    }
   ],
   "source": [
    "pyplot.plot(malla, (numpy.array(tnormal)-numpy.array(tarbol))/(numpy.array(tvectorizado)-numpy.array(tarbol)), 'b-+')\n",
    "pyplot.xlabel('Numero de Particulas', fontsize = 12)\n",
    "pyplot.ylabel('Factor', fontsize = 12)\n",
    "pyplot.xscale('log')\n",
    "pyplot.title('Factor t_vec/t_normal sin considerar creación del arbol \\n', fontsize = 16)\n",
    "blue = mpatches.Patch(color='blue', label='Tree Code')\n",
    "pyplot.legend(handles=[blue])\n",
    "pyplot.show()"
   ]
  },
  {
   "cell_type": "code",
   "execution_count": 26,
   "metadata": {
    "collapsed": false
   },
   "outputs": [
    {
     "data": {
      "image/png": "[encoded data removed]",
      "text/plain": [
       "<matplotlib.figure.Figure at 0x7ff3f631da90>"
      ]
     },
     "metadata": {},
     "output_type": "display_data"
    }
   ],
   "source": [
    "pyplot.plot(malla, error_nordir, 'b-+')\n",
    "pyplot.plot(malla, error_vecdir, 'g-+')\n",
    "pyplot.xlabel('Numero de Particulas', fontsize = 12)\n",
    "pyplot.ylabel('Error', fontsize = 12)\n",
    "pyplot.xscale('log')\n",
    "pyplot.yscale('log')\n",
    "pyplot.title('Error respecto a Suma Directa', fontsize = 16)\n",
    "blue = mpatches.Patch(color='blue', label='Tree Code')\n",
    "green = mpatches.Patch(color='green', label='Tree Code Vectorizado')\n",
    "pyplot.legend(handles=[blue, green])\n",
    "pyplot.show()"
   ]
  },
  {
   "cell_type": "code",
   "execution_count": null,
   "metadata": {
    "collapsed": true
   },
   "outputs": [],
   "source": [
    "n = 2000\n",
    "particles = [ Particle(m = 1.0/n) for i in range(n) ]\n",
    "malla = numpy.array([int(n/1000), int(n/500), int(n/100), int(n/50), int(n/10)])\n",
    "tnormal = []\n",
    "tvectorizado = []\n",
    "error = []\n",
    "\n",
    "for n_crit in malla:\n",
    "    for particle in particles:\n",
    "        particle.phi = 0.0\n",
    "    root = Cell(n_crit)\n",
    "    root.x, root.y, root.z = 0.5, 0.5, 0.5\n",
    "    root.r = 0.5\n",
    "\n",
    "    tic = time()\n",
    "    cells = build_tree(particles, root, n_crit)\n",
    "    get_multipole(particles, 0, cells, n_crit)\n",
    "    upward_sweep(cells)\n",
    "    t_tree = time() - tic\n",
    "\n",
    "    tic = time()\n",
    "\n",
    "    twigs = [cell for cell in cells if not cell.nleaf >= n_crit]\n",
    "    lst, no_lst = interaction_list_complete(particles, 0, twigs, cells, n_crit, 0.5)\n",
    "    eval_vec(twigs, lst, no_lst, particles, cells)\n",
    "\n",
    "    t_vec = time() - tic\n",
    "\n",
    "    sol_vec = numpy.array([i.phi for i in particles])\n",
    "\n",
    "    tvectorizado.append(t_vec + t_tree)\n",
    "\n",
    "    for i in particles:\n",
    "        i.phi = 0.0\n",
    "    \n",
    "    tic = time()\n",
    "\n",
    "    eval_potential(particles, cells, n_crit, 0.5)\n",
    "\n",
    "    t_nor = time() - tic\n",
    "\n",
    "    sol = numpy.array([i.phi for i in particles])\n",
    "\n",
    "    tnormal.append(t_nor + t_tree)\n",
    "\n",
    "    error.append(numpy.sqrt(sum((sol-sol_vec)**2)/sum(sol**2)))"
   ]
  },
  {
   "cell_type": "code",
   "execution_count": 28,
   "metadata": {
    "collapsed": false
   },
   "outputs": [
    {
     "data": {
      "image/png": "[encoded data removed]",
      "text/plain": [
       "<matplotlib.figure.Figure at 0x7ff3f63af128>"
      ]
     },
     "metadata": {},
     "output_type": "display_data"
    }
   ],
   "source": [
    "pyplot.plot(malla/n, tnormal, 'b-+')\n",
    "pyplot.plot(malla/n, tvectorizado, 'g-+')\n",
    "pyplot.xlabel('N critico / N', fontsize = 12)\n",
    "pyplot.ylabel('Tiempo [s]', fontsize = 12)\n",
    "pyplot.xscale('log')\n",
    "pyplot.yscale('log')\n",
    "pyplot.title('Complejidad algoritmica\\n', fontsize = 16)\n",
    "blue = mpatches.Patch(color='blue', label='Tree Code')\n",
    "green = mpatches.Patch(color='green', label='Tree Code Vectorizado')\n",
    "pyplot.legend(handles=[blue, green])\n",
    "pyplot.show()"
   ]
  },
  {
   "cell_type": "code",
   "execution_count": 29,
   "metadata": {
    "collapsed": false
   },
   "outputs": [
    {
     "data": {
      "image/png": "[encoded data removed]",
      "text/plain": [
       "<matplotlib.figure.Figure at 0x7ff3f5afadd8>"
      ]
     },
     "metadata": {},
     "output_type": "display_data"
    }
   ],
   "source": [
    "pyplot.plot(malla/n, error, 'b-+')\n",
    "pyplot.xlabel('N critico / N', fontsize = 12)\n",
    "pyplot.ylabel('Error', fontsize = 12)\n",
    "pyplot.xscale('log')\n",
    "pyplot.yscale('log')\n",
    "pyplot.title('Error de TCV respecto a TC\\n', fontsize = 16)\n",
    "pyplot.show()"
   ]
  }
 ],
 "metadata": {
  "anaconda-cloud": {},
  "kernelspec": {
   "display_name": "Python [conda env:py36]",
   "language": "python",
   "name": "conda-env-py36-py"
  },
  "language_info": {
   "codemirror_mode": {
    "name": "ipython",
    "version": 3
   },
   "file_extension": ".py",
   "mimetype": "text/x-python",
   "name": "python",
   "nbconvert_exporter": "python",
   "pygments_lexer": "ipython3",
   "version": "3.6.1"
  }
 },
 "nbformat": 4,
 "nbformat_minor": 2
}
